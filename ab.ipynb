{
 "cells": [
  {
   "cell_type": "code",
   "execution_count": 9,
   "id": "6b1e8d95",
   "metadata": {
    "scrolled": true
   },
   "outputs": [
    {
     "data": {
      "text/html": [
       "<div>\n",
       "<style scoped>\n",
       "    .dataframe tbody tr th:only-of-type {\n",
       "        vertical-align: middle;\n",
       "    }\n",
       "\n",
       "    .dataframe tbody tr th {\n",
       "        vertical-align: top;\n",
       "    }\n",
       "\n",
       "    .dataframe thead th {\n",
       "        text-align: right;\n",
       "    }\n",
       "</style>\n",
       "<table border=\"1\" class=\"dataframe\">\n",
       "  <thead>\n",
       "    <tr style=\"text-align: right;\">\n",
       "      <th></th>\n",
       "      <th>User ID</th>\n",
       "      <th>Group</th>\n",
       "      <th>Payment Plan</th>\n",
       "      <th>Conversion</th>\n",
       "      <th>Time Spent (s)</th>\n",
       "      <th>Device</th>\n",
       "      <th>Date</th>\n",
       "      <th>Region</th>\n",
       "    </tr>\n",
       "  </thead>\n",
       "  <tbody>\n",
       "    <tr>\n",
       "      <th>0</th>\n",
       "      <td>1</td>\n",
       "      <td>A</td>\n",
       "      <td>Plan A</td>\n",
       "      <td>0</td>\n",
       "      <td>79</td>\n",
       "      <td>Mobile</td>\n",
       "      <td>2024-10-02</td>\n",
       "      <td>Nakuru</td>\n",
       "    </tr>\n",
       "    <tr>\n",
       "      <th>1</th>\n",
       "      <td>2</td>\n",
       "      <td>B</td>\n",
       "      <td>Plan B</td>\n",
       "      <td>1</td>\n",
       "      <td>109</td>\n",
       "      <td>Mobile</td>\n",
       "      <td>2024-10-02</td>\n",
       "      <td>Eldoret</td>\n",
       "    </tr>\n",
       "    <tr>\n",
       "      <th>2</th>\n",
       "      <td>3</td>\n",
       "      <td>B</td>\n",
       "      <td>Plan B</td>\n",
       "      <td>0</td>\n",
       "      <td>106</td>\n",
       "      <td>Desktop</td>\n",
       "      <td>2024-10-02</td>\n",
       "      <td>Nairobi</td>\n",
       "    </tr>\n",
       "    <tr>\n",
       "      <th>3</th>\n",
       "      <td>4</td>\n",
       "      <td>A</td>\n",
       "      <td>Plan A</td>\n",
       "      <td>0</td>\n",
       "      <td>14</td>\n",
       "      <td>Desktop</td>\n",
       "      <td>2024-10-02</td>\n",
       "      <td>Nakuru</td>\n",
       "    </tr>\n",
       "    <tr>\n",
       "      <th>4</th>\n",
       "      <td>5</td>\n",
       "      <td>B</td>\n",
       "      <td>Plan B</td>\n",
       "      <td>1</td>\n",
       "      <td>26</td>\n",
       "      <td>Mobile</td>\n",
       "      <td>2024-10-02</td>\n",
       "      <td>Nakuru</td>\n",
       "    </tr>\n",
       "  </tbody>\n",
       "</table>\n",
       "</div>"
      ],
      "text/plain": [
       "   User ID Group Payment Plan  Conversion  Time Spent (s)   Device  \\\n",
       "0        1     A       Plan A           0              79   Mobile   \n",
       "1        2     B       Plan B           1             109   Mobile   \n",
       "2        3     B       Plan B           0             106  Desktop   \n",
       "3        4     A       Plan A           0              14  Desktop   \n",
       "4        5     B       Plan B           1              26   Mobile   \n",
       "\n",
       "         Date   Region  \n",
       "0  2024-10-02   Nakuru  \n",
       "1  2024-10-02  Eldoret  \n",
       "2  2024-10-02  Nairobi  \n",
       "3  2024-10-02   Nakuru  \n",
       "4  2024-10-02   Nakuru  "
      ]
     },
     "execution_count": 9,
     "metadata": {},
     "output_type": "execute_result"
    }
   ],
   "source": [
    "import pandas as pd\n",
    "import numpy as np\n",
    "\n",
    "df = pd.read_csv('C:/Users/Jacqy/Documents/AB/smart.csv')\n",
    "df.head()"
   ]
  },
  {
   "cell_type": "code",
   "execution_count": 10,
   "id": "678c79b9",
   "metadata": {},
   "outputs": [
    {
     "data": {
      "text/plain": [
       "User ID           0\n",
       "Group             0\n",
       "Payment Plan      0\n",
       "Conversion        0\n",
       "Time Spent (s)    0\n",
       "Device            0\n",
       "Date              0\n",
       "Region            0\n",
       "dtype: int64"
      ]
     },
     "execution_count": 10,
     "metadata": {},
     "output_type": "execute_result"
    }
   ],
   "source": [
    "df.isnull().sum()"
   ]
  },
  {
   "cell_type": "code",
   "execution_count": 11,
   "id": "9cc8a54b",
   "metadata": {},
   "outputs": [
    {
     "data": {
      "text/html": [
       "<div>\n",
       "<style scoped>\n",
       "    .dataframe tbody tr th:only-of-type {\n",
       "        vertical-align: middle;\n",
       "    }\n",
       "\n",
       "    .dataframe tbody tr th {\n",
       "        vertical-align: top;\n",
       "    }\n",
       "\n",
       "    .dataframe thead th {\n",
       "        text-align: right;\n",
       "    }\n",
       "</style>\n",
       "<table border=\"1\" class=\"dataframe\">\n",
       "  <thead>\n",
       "    <tr style=\"text-align: right;\">\n",
       "      <th></th>\n",
       "      <th>User ID</th>\n",
       "      <th>Group</th>\n",
       "      <th>Payment Plan</th>\n",
       "      <th>Conversion</th>\n",
       "      <th>Time Spent (s)</th>\n",
       "      <th>Device</th>\n",
       "      <th>Date</th>\n",
       "      <th>Region</th>\n",
       "    </tr>\n",
       "  </thead>\n",
       "  <tbody>\n",
       "    <tr>\n",
       "      <th>0</th>\n",
       "      <td>1</td>\n",
       "      <td>A</td>\n",
       "      <td>Plan A</td>\n",
       "      <td>0</td>\n",
       "      <td>79</td>\n",
       "      <td>Mobile</td>\n",
       "      <td>2024-10-02</td>\n",
       "      <td>Nakuru</td>\n",
       "    </tr>\n",
       "    <tr>\n",
       "      <th>1</th>\n",
       "      <td>2</td>\n",
       "      <td>B</td>\n",
       "      <td>Plan B</td>\n",
       "      <td>1</td>\n",
       "      <td>109</td>\n",
       "      <td>Mobile</td>\n",
       "      <td>2024-10-02</td>\n",
       "      <td>Eldoret</td>\n",
       "    </tr>\n",
       "    <tr>\n",
       "      <th>2</th>\n",
       "      <td>3</td>\n",
       "      <td>B</td>\n",
       "      <td>Plan B</td>\n",
       "      <td>0</td>\n",
       "      <td>106</td>\n",
       "      <td>Desktop</td>\n",
       "      <td>2024-10-02</td>\n",
       "      <td>Nairobi</td>\n",
       "    </tr>\n",
       "    <tr>\n",
       "      <th>3</th>\n",
       "      <td>4</td>\n",
       "      <td>A</td>\n",
       "      <td>Plan A</td>\n",
       "      <td>0</td>\n",
       "      <td>14</td>\n",
       "      <td>Desktop</td>\n",
       "      <td>2024-10-02</td>\n",
       "      <td>Nakuru</td>\n",
       "    </tr>\n",
       "    <tr>\n",
       "      <th>4</th>\n",
       "      <td>5</td>\n",
       "      <td>B</td>\n",
       "      <td>Plan B</td>\n",
       "      <td>1</td>\n",
       "      <td>26</td>\n",
       "      <td>Mobile</td>\n",
       "      <td>2024-10-02</td>\n",
       "      <td>Nakuru</td>\n",
       "    </tr>\n",
       "    <tr>\n",
       "      <th>...</th>\n",
       "      <td>...</td>\n",
       "      <td>...</td>\n",
       "      <td>...</td>\n",
       "      <td>...</td>\n",
       "      <td>...</td>\n",
       "      <td>...</td>\n",
       "      <td>...</td>\n",
       "      <td>...</td>\n",
       "    </tr>\n",
       "    <tr>\n",
       "      <th>95</th>\n",
       "      <td>96</td>\n",
       "      <td>A</td>\n",
       "      <td>Plan A</td>\n",
       "      <td>1</td>\n",
       "      <td>18</td>\n",
       "      <td>Desktop</td>\n",
       "      <td>2024-10-02</td>\n",
       "      <td>Nairobi</td>\n",
       "    </tr>\n",
       "    <tr>\n",
       "      <th>96</th>\n",
       "      <td>97</td>\n",
       "      <td>A</td>\n",
       "      <td>Plan A</td>\n",
       "      <td>0</td>\n",
       "      <td>78</td>\n",
       "      <td>Mobile</td>\n",
       "      <td>2024-10-02</td>\n",
       "      <td>Nairobi</td>\n",
       "    </tr>\n",
       "    <tr>\n",
       "      <th>97</th>\n",
       "      <td>98</td>\n",
       "      <td>B</td>\n",
       "      <td>Plan B</td>\n",
       "      <td>1</td>\n",
       "      <td>104</td>\n",
       "      <td>Mobile</td>\n",
       "      <td>2024-10-02</td>\n",
       "      <td>Nakuru</td>\n",
       "    </tr>\n",
       "    <tr>\n",
       "      <th>98</th>\n",
       "      <td>99</td>\n",
       "      <td>A</td>\n",
       "      <td>Plan A</td>\n",
       "      <td>0</td>\n",
       "      <td>19</td>\n",
       "      <td>Desktop</td>\n",
       "      <td>2024-10-02</td>\n",
       "      <td>Nakuru</td>\n",
       "    </tr>\n",
       "    <tr>\n",
       "      <th>99</th>\n",
       "      <td>100</td>\n",
       "      <td>B</td>\n",
       "      <td>Plan B</td>\n",
       "      <td>1</td>\n",
       "      <td>62</td>\n",
       "      <td>Desktop</td>\n",
       "      <td>2024-10-02</td>\n",
       "      <td>Eldoret</td>\n",
       "    </tr>\n",
       "  </tbody>\n",
       "</table>\n",
       "<p>100 rows × 8 columns</p>\n",
       "</div>"
      ],
      "text/plain": [
       "    User ID Group Payment Plan  Conversion  Time Spent (s)   Device  \\\n",
       "0         1     A       Plan A           0              79   Mobile   \n",
       "1         2     B       Plan B           1             109   Mobile   \n",
       "2         3     B       Plan B           0             106  Desktop   \n",
       "3         4     A       Plan A           0              14  Desktop   \n",
       "4         5     B       Plan B           1              26   Mobile   \n",
       "..      ...   ...          ...         ...             ...      ...   \n",
       "95       96     A       Plan A           1              18  Desktop   \n",
       "96       97     A       Plan A           0              78   Mobile   \n",
       "97       98     B       Plan B           1             104   Mobile   \n",
       "98       99     A       Plan A           0              19  Desktop   \n",
       "99      100     B       Plan B           1              62  Desktop   \n",
       "\n",
       "          Date   Region  \n",
       "0   2024-10-02   Nakuru  \n",
       "1   2024-10-02  Eldoret  \n",
       "2   2024-10-02  Nairobi  \n",
       "3   2024-10-02   Nakuru  \n",
       "4   2024-10-02   Nakuru  \n",
       "..         ...      ...  \n",
       "95  2024-10-02  Nairobi  \n",
       "96  2024-10-02  Nairobi  \n",
       "97  2024-10-02   Nakuru  \n",
       "98  2024-10-02   Nakuru  \n",
       "99  2024-10-02  Eldoret  \n",
       "\n",
       "[100 rows x 8 columns]"
      ]
     },
     "execution_count": 11,
     "metadata": {},
     "output_type": "execute_result"
    }
   ],
   "source": [
    "df.head(100)"
   ]
  },
  {
   "cell_type": "code",
   "execution_count": 12,
   "id": "10f81d1f",
   "metadata": {},
   "outputs": [
    {
     "data": {
      "text/plain": [
       "0"
      ]
     },
     "execution_count": 12,
     "metadata": {},
     "output_type": "execute_result"
    }
   ],
   "source": [
    "df.duplicated().sum()"
   ]
  },
  {
   "cell_type": "code",
   "execution_count": 13,
   "id": "fcc3ff89",
   "metadata": {},
   "outputs": [
    {
     "data": {
      "text/html": [
       "<div>\n",
       "<style scoped>\n",
       "    .dataframe tbody tr th:only-of-type {\n",
       "        vertical-align: middle;\n",
       "    }\n",
       "\n",
       "    .dataframe tbody tr th {\n",
       "        vertical-align: top;\n",
       "    }\n",
       "\n",
       "    .dataframe thead th {\n",
       "        text-align: right;\n",
       "    }\n",
       "</style>\n",
       "<table border=\"1\" class=\"dataframe\">\n",
       "  <thead>\n",
       "    <tr style=\"text-align: right;\">\n",
       "      <th></th>\n",
       "      <th>User ID</th>\n",
       "      <th>Conversion</th>\n",
       "      <th>Time Spent (s)</th>\n",
       "    </tr>\n",
       "  </thead>\n",
       "  <tbody>\n",
       "    <tr>\n",
       "      <th>count</th>\n",
       "      <td>500.000000</td>\n",
       "      <td>500.000000</td>\n",
       "      <td>500.000000</td>\n",
       "    </tr>\n",
       "    <tr>\n",
       "      <th>mean</th>\n",
       "      <td>250.500000</td>\n",
       "      <td>0.306000</td>\n",
       "      <td>65.710000</td>\n",
       "    </tr>\n",
       "    <tr>\n",
       "      <th>std</th>\n",
       "      <td>144.481833</td>\n",
       "      <td>0.461291</td>\n",
       "      <td>32.759002</td>\n",
       "    </tr>\n",
       "    <tr>\n",
       "      <th>min</th>\n",
       "      <td>1.000000</td>\n",
       "      <td>0.000000</td>\n",
       "      <td>10.000000</td>\n",
       "    </tr>\n",
       "    <tr>\n",
       "      <th>25%</th>\n",
       "      <td>125.750000</td>\n",
       "      <td>0.000000</td>\n",
       "      <td>37.750000</td>\n",
       "    </tr>\n",
       "    <tr>\n",
       "      <th>50%</th>\n",
       "      <td>250.500000</td>\n",
       "      <td>0.000000</td>\n",
       "      <td>66.000000</td>\n",
       "    </tr>\n",
       "    <tr>\n",
       "      <th>75%</th>\n",
       "      <td>375.250000</td>\n",
       "      <td>1.000000</td>\n",
       "      <td>95.250000</td>\n",
       "    </tr>\n",
       "    <tr>\n",
       "      <th>max</th>\n",
       "      <td>500.000000</td>\n",
       "      <td>1.000000</td>\n",
       "      <td>119.000000</td>\n",
       "    </tr>\n",
       "  </tbody>\n",
       "</table>\n",
       "</div>"
      ],
      "text/plain": [
       "          User ID  Conversion  Time Spent (s)\n",
       "count  500.000000  500.000000      500.000000\n",
       "mean   250.500000    0.306000       65.710000\n",
       "std    144.481833    0.461291       32.759002\n",
       "min      1.000000    0.000000       10.000000\n",
       "25%    125.750000    0.000000       37.750000\n",
       "50%    250.500000    0.000000       66.000000\n",
       "75%    375.250000    1.000000       95.250000\n",
       "max    500.000000    1.000000      119.000000"
      ]
     },
     "execution_count": 13,
     "metadata": {},
     "output_type": "execute_result"
    }
   ],
   "source": [
    "df.describe()"
   ]
  },
  {
   "cell_type": "code",
   "execution_count": 16,
   "id": "53cea696",
   "metadata": {},
   "outputs": [
    {
     "data": {
      "text/plain": [
       "Region\n",
       "Eldoret    39\n",
       "Kisumu     28\n",
       "Mombasa    26\n",
       "Nairobi    26\n",
       "Nakuru     34\n",
       "Name: Conversion, dtype: int64"
      ]
     },
     "execution_count": 16,
     "metadata": {},
     "output_type": "execute_result"
    }
   ],
   "source": [
    "df.groupby('Region')['Conversion'].sum()"
   ]
  },
  {
   "cell_type": "code",
   "execution_count": 17,
   "id": "b42377bf",
   "metadata": {},
   "outputs": [
    {
     "data": {
      "text/plain": [
       "Device\n",
       "Desktop    74\n",
       "Mobile     79\n",
       "Name: Conversion, dtype: int64"
      ]
     },
     "execution_count": 17,
     "metadata": {},
     "output_type": "execute_result"
    }
   ],
   "source": [
    "df.groupby('Device')['Conversion'].sum()"
   ]
  },
  {
   "cell_type": "code",
   "execution_count": 22,
   "id": "5f83a86e",
   "metadata": {},
   "outputs": [
    {
     "data": {
      "text/plain": [
       "Group  Device \n",
       "A      Desktop    37\n",
       "       Mobile     35\n",
       "B      Desktop    37\n",
       "       Mobile     44\n",
       "Name: Conversion, dtype: int64"
      ]
     },
     "execution_count": 22,
     "metadata": {},
     "output_type": "execute_result"
    }
   ],
   "source": [
    "df.groupby(['Group', 'Device'])['Conversion'].sum()"
   ]
  },
  {
   "cell_type": "code",
   "execution_count": 23,
   "id": "bbaf8688",
   "metadata": {},
   "outputs": [
    {
     "name": "stdout",
     "output_type": "stream",
     "text": [
      "Group\n",
      "A    0.302521\n",
      "B    0.309160\n",
      "Name: Conversion, dtype: float64\n"
     ]
    }
   ],
   "source": [
    "conversion_rate = df.groupby('Group')['Conversion'].mean()\n",
    "print(conversion_rate)"
   ]
  },
  {
   "cell_type": "code",
   "execution_count": 26,
   "id": "483bb5e7",
   "metadata": {},
   "outputs": [
    {
     "data": {
      "text/plain": [
       "0.3025210084033613"
      ]
     },
     "execution_count": 26,
     "metadata": {},
     "output_type": "execute_result"
    }
   ],
   "source": [
    "group_a_conversion = df[df['Group'] == 'A']['Conversion'].mean()\n",
    "group_a_conversion"
   ]
  },
  {
   "cell_type": "code",
   "execution_count": 27,
   "id": "60e31d45",
   "metadata": {},
   "outputs": [
    {
     "data": {
      "text/plain": [
       "0.30916030534351147"
      ]
     },
     "execution_count": 27,
     "metadata": {},
     "output_type": "execute_result"
    }
   ],
   "source": [
    "group_b_conversion = df[df['Group'] == 'B']['Conversion'].mean()\n",
    "group_b_conversion"
   ]
  },
  {
   "cell_type": "code",
   "execution_count": 28,
   "id": "a2c92f6a",
   "metadata": {},
   "outputs": [
    {
     "data": {
      "image/png": "[encoded data removed]",
      "text/plain": [
       "<Figure size 640x480 with 1 Axes>"
      ]
     },
     "metadata": {},
     "output_type": "display_data"
    }
   ],
   "source": [
    "import matplotlib.pyplot as plt\n",
    "\n",
    "# Bar plot of conversion rates by group\n",
    "conversion_rate.plot(kind='bar', color=['skyblue', 'salmon'])\n",
    "plt.title('Conversion Rate by Group')\n",
    "plt.ylabel('Conversion Rate')\n",
    "plt.xlabel('Group')\n",
    "plt.show()"
   ]
  },
  {
   "cell_type": "code",
   "execution_count": 30,
   "id": "e013b2a4",
   "metadata": {},
   "outputs": [
    {
     "data": {
      "image/png": "[encoded data removed]",
      "text/plain": [
       "<Figure size 640x480 with 2 Axes>"
      ]
     },
     "metadata": {},
     "output_type": "display_data"
    }
   ],
   "source": [
    "df['Time Spent (s)'].hist(by=df['Group'], bins=20, alpha=0.6)\n",
    "plt.show()"
   ]
  },
  {
   "cell_type": "code",
   "execution_count": 31,
   "id": "46c0e856",
   "metadata": {},
   "outputs": [
    {
     "name": "stdout",
     "output_type": "stream",
     "text": [
      "Z-statistic: -0.16089248753464097\n",
      "P-value: 0.8721780792988162\n"
     ]
    }
   ],
   "source": [
    "from statsmodels.stats.proportion import proportions_ztest\n",
    "\n",
    "# Number of conversions in Group A and Group B\n",
    "conversions_A = df[df['Group'] == 'A']['Conversion'].sum()\n",
    "conversions_B = df[df['Group'] == 'B']['Conversion'].sum()\n",
    "\n",
    "# Number of total participants in Group A and Group B\n",
    "n_A = df[df['Group'] == 'A'].shape[0]\n",
    "n_B = df[df['Group'] == 'B'].shape[0]\n",
    "\n",
    "# Perform the z-test\n",
    "z_stat, p_value = proportions_ztest([conversions_A, conversions_B], [n_A, n_B])\n",
    "\n",
    "# Output the result\n",
    "print(f\"Z-statistic: {z_stat}\")\n",
    "print(f\"P-value: {p_value}\")\n"
   ]
  },
  {
   "cell_type": "code",
   "execution_count": 32,
   "id": "b1844baf",
   "metadata": {},
   "outputs": [
    {
     "name": "stdout",
     "output_type": "stream",
     "text": [
      "Chi-square statistic: 0.004062174227476724\n",
      "P-value: 0.9491810854842688\n"
     ]
    }
   ],
   "source": [
    "from scipy.stats import chi2_contingency\n",
    "\n",
    "# Create a contingency table\n",
    "contingency_table = pd.crosstab(df['Group'], df['Conversion'])\n",
    "\n",
    "# Perform the chi-square test\n",
    "chi2, p, dof, expected = chi2_contingency(contingency_table)\n",
    "\n",
    "# Output the result\n",
    "print(f\"Chi-square statistic: {chi2}\")\n",
    "print(f\"P-value: {p}\")\n"
   ]
  },
  {
   "cell_type": "code",
   "execution_count": null,
   "id": "277903d1",
   "metadata": {},
   "outputs": [],
   "source": []
  }
 ],
 "metadata": {
  "kernelspec": {
   "display_name": "Python 3 (ipykernel)",
   "language": "python",
   "name": "python3"
  },
  "language_info": {
   "codemirror_mode": {
    "name": "ipython",
    "version": 3
   },
   "file_extension": ".py",
   "mimetype": "text/x-python",
   "name": "python",
   "nbconvert_exporter": "python",
   "pygments_lexer": "ipython3",
   "version": "3.11.5"
  }
 },
 "nbformat": 4,
 "nbformat_minor": 5
}
